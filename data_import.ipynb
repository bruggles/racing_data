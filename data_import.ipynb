{
 "cells": [
  {
   "cell_type": "code",
   "execution_count": 9,
   "metadata": {},
   "outputs": [],
   "source": [
    "import pandas as pd\n",
    "from pathlib import Path\n",
    "from os.path import abspath, dirname, split, splitext\n",
    "data_path = abspath(\"data\")\n",
    "import os\n",
    "import ipywidgets as widgets\n",
    "import numpy as np\n",
    "from tkinter import Tk     # from tkinter import Tk for Python 3.x\n",
    "from tkinter.filedialog import askopenfilename\n",
    "import time\n",
    "import sqlite3 as sql\n",
    "pd.set_option('display.max_rows', 20)"
   ]
  },
  {
   "cell_type": "markdown",
   "metadata": {},
   "source": [
    "# Track and Data parameters"
   ]
  },
  {
   "cell_type": "code",
   "execution_count": 26,
   "metadata": {},
   "outputs": [],
   "source": [
    "column_names = ['start_date', 'start_time', 'lap_number', 'session_time', 'lap_time',\n",
    "       'long_acceleration', 'lattitude', 'gps_lat_acceleration',\n",
    "       'heading', 'rpm', 'gps_distance', 'gps_long_acceleration',\n",
    "       'lat_acceleration', 'longitude', 'gps_speed',\n",
    "       'num_satellites', 'throttle_position','file']"
   ]
  },
  {
   "cell_type": "code",
   "execution_count": 27,
   "metadata": {},
   "outputs": [],
   "source": [
    "track_configs = {'umc-east':\n",
    "                 [{'corner_num':'1','corner_name':'turn_1','coord':[40.58313387564972, -112.377462146332],'heading':'w'},\n",
    "                  {'corner_num':'2','corner_name':'fast','coord':[40.582147300913256, -112.37800820636099],'heading':'e'},\n",
    "                  {'corner_num':'3','corner_name':'faster','coord':[40.58179961496041, -112.37656498144997],'heading':'e'},\n",
    "                  {'corner_num':'4','corner_name':'gotcha','coord':[40.580491356707405, -112.3748967376012],'heading':'e'},\n",
    "                  {'corner_num':'5','corner_name':'maybe_yll_makit','coord':[40.57961917032409, -112.37351558687992],'heading':'e'},\n",
    "                  {'corner_num':'6','corner_name':'satisfaction','coord':[40.578511241494205, -112.37304227118328],'heading':'s'},\n",
    "                  {'corner_num':'7','corner_name':'agony','coord':[40.5792478983455, -112.37545540530871],'heading':'n'},\n",
    "                  {'corner_num':'7','corner_name':'ecstacy','coord':[40.5805, -112.377],'heading':'w'},\n",
    "                  {'corner_num':'8','corner_name':'first_attitude','coord':[40.57857072875101, -112.37753089860107],'heading':'s'},\n",
    "                  {'corner_num':'9','corner_name':'second_attitude','coord':[40.5774, -112.376],'heading':'e'},\n",
    "                  {'corner_num':'10','corner_name':'bad_attitude','coord':[40.57694360871717, -112.37537781257156],'heading':'s'},\n",
    "                  {'corner_num':'11','corner_name':'tooele_turn','coord':[40.5766960843945, -112.37324915989871],'heading':'e'},\n",
    "                  {'corner_num':'12','corner_name':'kink','coord':[40.57793369685003, -112.37137402733451],'heading':'n'},\n",
    "                  {'corner_num':'13','corner_name':'club_house_corner','coord':[40.579784179430945, -112.37164560191455],'heading':'n'},\n",
    "                  {'corner_num':'14','corner_name':'wind_up','coord':[40.58097459021327, -112.3728482893404],'heading':'w'},\n",
    "                  {'corner_num':'15','corner_name':'release','coord':[40.5821119431023, -112.37338367922673],'heading':'e'},\n",
    "                  {'corner_num':'0','corner_name':'main_straight','coord':[40.58319624080327, -112.37422168078798],'heading':'w'}\n",
    "                 ],\n",
    "                'umc-west':\n",
    "                 [{'corner_num':'1','corner_name':'sunset_bend','coord':[40.58311944287482, -112.38493614471426],'heading':'w'},\n",
    "                  {'corner_num':'2','corner_name':'dreamboat','coord':[40.581444976283656, -112.38602512153257],'heading':'s'},\n",
    "                  {'corner_num':'3','corner_name':'workout','coord':[40.579399707182475, -112.38554232391608],'heading':'s'},\n",
    "                  {'corner_num':'4','corner_name':'scream','coord':[40.57737188978102, -112.38559998100673],'heading':'s'},\n",
    "                  {'corner_num':'5','corner_name':'black_rock_hairpin','coord':[40.57687030209047, -112.38212941425624],'heading':'e'},\n",
    "                  {'corner_num':'6','corner_name':'right_hook','coord':[40.57786280175162, -112.38142687037963],'heading':'w'},\n",
    "                  {'corner_num':'6','corner_name':'knockout','coord':[40.578375053880364, -112.38314107743857],'heading':'n'},\n",
    "                  {'corner_num':'7','corner_name':'demon','coord':[40.579164768227564, -112.38111775107392],'heading':'e'},\n",
    "                  {'corner_num':'7','corner_name':'devil','coord':[40.57992245836512, -112.37934734050484],'heading':'n'},\n",
    "                  {'corner_num':'7','corner_name':'diablo','coord':[40.580605439303724, -112.37961430717796],'heading':'n'},\n",
    "                  {'corner_num':'8','corner_name':'indecision','coord':[40.58069081143074, -112.38092103878846],'heading':'w'},\n",
    "                  {'corner_num':'9','corner_name':'precision','coord':[40.58109632754622, -112.38319728094869],'heading':'n'},\n",
    "                  {'corner_num':'10','corner_name':'west_ten','coord':[40.582366217373085, -112.38167978617521],'heading':'e'}, \n",
    "                  {'corner_num':'0','corner_name':'main_straight','coord':[40.58311453419377, -112.38143864891444],'heading':'w'}\n",
    "                 ],\n",
    "                'umc-outer':\n",
    "                 [{'corner_num':'1','corner_name':'sunset_bend','coord':[40.58311944287482, -112.38493614471426],'heading':'w'},\n",
    "                  {'corner_num':'2','corner_name':'dreamboat','coord':[40.581444976283656, -112.38602512153257],'heading':'s'},\n",
    "                  {'corner_num':'3','corner_name':'workout','coord':[40.579399707182475, -112.38554232391608],'heading':'s'},\n",
    "                  {'corner_num':'4','corner_name':'scream','coord':[40.57737188978102, -112.38559998100673],'heading':'s'},\n",
    "                  {'corner_num':'5','corner_name':'black_rock_hairpin','coord':[40.57687030209047, -112.38212941425624],'heading':'e'},\n",
    "                  {'corner_num':'6','corner_name':'right_hook','coord':[40.57786280175162, -112.38142687037963],'heading':'w'},\n",
    "                  {'corner_num':'6','corner_name':'knockout','coord':[40.578375053880364, -112.38314107743857],'heading':'n'},\n",
    "                  {'corner_num':'7','corner_name':'witchcraft','coord':[40.579164768227564, -112.38111775107392],'heading':'e'},\n",
    "                  {'corner_num':'8','corner_name':'first_attitude','coord':[40.57857072875101, -112.37753089860107],'heading':'s'},\n",
    "                  {'corner_num':'9','corner_name':'second_attitude','coord':[40.5774, -112.376],'heading':'e'},\n",
    "                  {'corner_num':'10','corner_name':'bad_attitude','coord':[40.57694360871717, -112.37537781257156],'heading':'s'},\n",
    "                  {'corner_num':'11','corner_name':'tooele_turn','coord':[40.5766960843945, -112.37324915989871],'heading':'e'},\n",
    "                  {'corner_num':'12','corner_name':'kink','coord':[40.57793369685003, -112.37137402733451],'heading':'n'},\n",
    "                  {'corner_num':'13','corner_name':'club_house_corner','coord':[40.579784179430945, -112.37164560191455],'heading':'n'},\n",
    "                  {'corner_num':'14','corner_name':'wind_up','coord':[40.58097459021327, -112.3728482893404],'heading':'w'},\n",
    "                  {'corner_num':'15','corner_name':'release','coord':[40.5821119431023, -112.37338367922673],'heading':'e'},\n",
    "                  {'corner_num':'0','corner_name':'main_straight','coord':[40.58319624080327, -112.37422168078798],'heading':'w'}\n",
    "                 ],\n",
    "                'umc-full':\n",
    "                 [{'corner_num':'1','corner_name':'sunset_bend','coord':[40.58311944287482, -112.38493614471426],'heading':'w'},\n",
    "                  {'corner_num':'2','corner_name':'dreamboat','coord':[40.581444976283656, -112.38602512153257],'heading':'s'},\n",
    "                  {'corner_num':'3','corner_name':'workout','coord':[40.579399707182475, -112.38554232391608],'heading':'s'},\n",
    "                  {'corner_num':'4','corner_name':'scream','coord':[40.57737188978102, -112.38559998100673],'heading':'s'},\n",
    "                  {'corner_num':'5','corner_name':'black_rock_hairpin','coord':[40.57687030209047, -112.38212941425624],'heading':'e'},\n",
    "                  {'corner_num':'6','corner_name':'right_hook','coord':[40.57786280175162, -112.38142687037963],'heading':'w'},\n",
    "                  {'corner_num':'6','corner_name':'knockout','coord':[40.578375053880364, -112.38314107743857],'heading':'n'},\n",
    "                  {'corner_num':'7','corner_name':'demon','coord':[40.579164768227564, -112.38111775107392],'heading':'e'},\n",
    "                  {'corner_num':'7','corner_name':'devil','coord':[40.57992245836512, -112.37934734050484],'heading':'n'},\n",
    "                  {'corner_num':'7','corner_name':'diablo','coord':[40.580605439303724, -112.37961430717796],'heading':'n'},\n",
    "                  {'corner_num':'8','corner_name':'indecision','coord':[40.58069081143074, -112.38092103878846],'heading':'w'},\n",
    "                  {'corner_num':'9','corner_name':'precision','coord':[40.58109632754622, -112.38319728094869],'heading':'n'},\n",
    "                  {'corner_num':'10','corner_name':'fast','coord':[40.582147300913256, -112.37800820636099],'heading':'e'},\n",
    "                  {'corner_num':'11','corner_name':'faster','coord':[40.58179961496041, -112.37656498144997],'heading':'e'},\n",
    "                  {'corner_num':'12','corner_name':'gotcha','coord':[40.580491356707405, -112.3748967376012],'heading':'e'},\n",
    "                  {'corner_num':'13','corner_name':'maybe_yll_makit','coord':[40.57961917032409, -112.37351558687992],'heading':'e'},\n",
    "                  {'corner_num':'14','corner_name':'satisfaction','coord':[40.578511241494205, -112.37304227118328],'heading':'s'},\n",
    "                  {'corner_num':'15','corner_name':'agony','coord':[40.5792478983455, -112.37545540530871],'heading':'n'},\n",
    "                  {'corner_num':'15','corner_name':'ecstacy','coord':[40.5805, -112.377],'heading':'w'},\n",
    "                  {'corner_num':'16','corner_name':'first_attitude','coord':[40.57857072875101, -112.37753089860107],'heading':'s'},\n",
    "                  {'corner_num':'17','corner_name':'second_attitude','coord':[40.5774, -112.376],'heading':'e'},\n",
    "                  {'corner_num':'18','corner_name':'bad_attitude','coord':[40.57694360871717, -112.37537781257156],'heading':'s'},\n",
    "                  {'corner_num':'19','corner_name':'tooele_turn','coord':[40.5766960843945, -112.37324915989871],'heading':'e'},\n",
    "                  {'corner_num':'20','corner_name':'kink','coord':[40.57793369685003, -112.37137402733451],'heading':'n'},\n",
    "                  {'corner_num':'21','corner_name':'club_house_corner','coord':[40.579784179430945, -112.37164560191455],'heading':'n'},\n",
    "                  {'corner_num':'22','corner_name':'wind_up','coord':[40.58097459021327, -112.3728482893404],'heading':'w'},\n",
    "                  {'corner_num':'23','corner_name':'release','coord':[40.5821119431023, -112.37338367922673],'heading':'e'},\n",
    "                  {'corner_num':'0','corner_name':'main_straight','coord':[40.58319624080327, -112.37422168078798],'heading':'w'}\n",
    "                 ]\n",
    "                }"
   ]
  },
  {
   "cell_type": "markdown",
   "metadata": {},
   "source": [
    "# Functions"
   ]
  },
  {
   "cell_type": "code",
   "execution_count": 30,
   "metadata": {},
   "outputs": [],
   "source": [
    "speed_units = 'kph' #'kph' or 'mph'"
   ]
  },
  {
   "cell_type": "code",
   "execution_count": 1,
   "metadata": {},
   "outputs": [],
   "source": [
    "def mph_convert(speed_column, units = 'kph'):\n",
    "    if units == 'kph':\n",
    "        speed = speed_column * 0.62137\n",
    "    else:\n",
    "        speed = speed_column\n",
    "    return speed"
   ]
  },
  {
   "cell_type": "code",
   "execution_count": 2,
   "metadata": {},
   "outputs": [],
   "source": [
    "def time_conv(time_col):\n",
    "    seconds_list = []\n",
    "    minutes_list = []\n",
    "    for time in time_col.to_list():\n",
    "        seconds = time/1000000000\n",
    "        minutes = int(seconds//60)\n",
    "        remaining_seconds = seconds -minutes*60\n",
    "        whole_seconds = str(int(remaining_seconds)).zfill(2)\n",
    "        partial_seconds = str(remaining_seconds%1)[1:5]\n",
    "        minutes_seconds = \"%s:%s%s\" % (minutes, whole_seconds, partial_seconds)\n",
    "        seconds_list.append(seconds)\n",
    "        minutes_list.append(minutes_seconds)\n",
    "    times = {'seconds':seconds_list,'minutes':minutes_list}\n",
    "    return times\n"
   ]
  },
  {
   "cell_type": "markdown",
   "metadata": {},
   "source": [
    "# Data grab and prep"
   ]
  },
  {
   "cell_type": "code",
   "execution_count": 24,
   "metadata": {},
   "outputs": [],
   "source": [
    "def tsv_import(filename,meta_id, speed_units,column_lookup):\n",
    "    df_final = pd.read_csv(filename, delimiter = \"\\t\")\n",
    "    new_cols = []\n",
    "    for col_name in df_final.columns:\n",
    "        new_cols.append(column_lookup[col_name.lower()])\n",
    "    df_final.columns = new_cols\n",
    "    df_final['upload_meta_id'] = meta_id\n",
    "    df_final['mph'] = mph_convert(df_final['gps_speed'],speed_units)\n",
    "    return df_final\n"
   ]
  },
  {
   "cell_type": "code",
   "execution_count": 4,
   "metadata": {},
   "outputs": [],
   "source": [
    "def vbo_import(filename,meta_id, speed_units):    \n",
    "    with open(filename) as f:\n",
    "        for x, line in enumerate(f):\n",
    "            #print(line)\n",
    "            header = False\n",
    "            comments = False\n",
    "            session_data = False\n",
    "            laptiming = False\n",
    "            column_names = False\n",
    "            data = False\n",
    "            if x == 0:\n",
    "                file_create = line\n",
    "            elif line.strip() == '[header]':\n",
    "                header, comments, session_data, laptiming, column_names, data = True, False, False, False, False, False\n",
    "                header_data = []\n",
    "            elif line.strip() == '[comments]':\n",
    "                header, comments, session_data, laptiming, column_names, data = False, True, False, False, False, False\n",
    "                comments_data = []\n",
    "            elif line.strip() == '[session data]':\n",
    "                header, comments, session_data, laptiming, column_names, data = False, False, True, False, False, False\n",
    "                session_data = []\n",
    "            elif line.strip() == '[laptiming]':\n",
    "                header, comments, session_data, laptiming, column_names, data = False, False, False, True, False, False \n",
    "                laptiming_data = []\n",
    "            elif line.strip() == '[column names]':\n",
    "                header, comments, session_data, laptiming, column_names, data = False, False, False, False, True, False \n",
    "                column_names_data = []\n",
    "                column_line = x\n",
    "            elif line.strip() == '[data]':\n",
    "                header, comments, session_data, laptiming, column_names, data = False, False, False, False, False, True\n",
    "                lap_data = []\n",
    "                data_line = x\n",
    "            if header:\n",
    "                header_data.append(line)\n",
    "            elif comments:\n",
    "                comments_data.append(line)\n",
    "            elif session_data:\n",
    "                session_data.append(line)\n",
    "            elif laptiming:\n",
    "                laptiming_data.append(line)\n",
    "            elif column_names:\n",
    "                if column_line != x:\n",
    "                    column_names_data.append(line)\n",
    "            elif data:\n",
    "                if data_line != x:\n",
    "                    lap_data.append(line.split('\\t'))\n",
    "        raw_data_dict = {}    \n",
    "        raw_data_dict['file_create'] = file_create\n",
    "        raw_data_dict['header'] = header_data\n",
    "        raw_data_dict['comments'] = comments_data\n",
    "        raw_data_dict['session_data'] = session_data\n",
    "        raw_data_dict['laptiming'] = laptiming_data\n",
    "        raw_data_dict['column_names'] = column_names_data\n",
    "        raw_data_dict['data'] = lap_data\n",
    "    return raw_data_dict\n"
   ]
  },
  {
   "cell_type": "code",
   "execution_count": 5,
   "metadata": {},
   "outputs": [],
   "source": [
    "def csv_import(filename):\n",
    "    string = \"LAPINDEX\tDATE\tTIME\tTIME_LAP\tLATITUDE\tLONGITUDE\tSPEED_KPH\tSPEED_MPH\tHEIGHT_M\tHEIGHT_FT\tHEADING_DEG\tGPSDIFFERENTIAL[UNKNOWN/2D3D/DGPS/INVALID]\tGPSFIX[NOFIX/2D/3D/VIRTUAL/INDOOR]\tGPSINTERPOLATED[FALSE/TRUE]\tSATELLITES\tHDOP\tACCURACY_M\tDISTANCE_KM\tDISTANCE_MILE\tACCELERATIONSOURCE[CALCULATED/MEASURED/UNDEFINED]\tLATERALG\tLINEALG\tLEAN\tRPM\tMAF\tWHEEL_SPEED_KPH\tWHEEL_SPEED_MPH\tTHROTTLE\tGEAR\tFUEL\tCOOLANT_CELSIUS\tOIL_CELSIUS\tIAT_CELSIUS\tMAP\tOIPPRESSURE\tBRAKEPRESSURE\tWHEEL_SPEED_RL_DELTA_KPH\tWHEEL_SPEED_RR_DELTA_KPH\tWHEEL_SPEED_FL_DELTA_KPH\tWHEEL_SPEED_FR_DELTA_KPH\tYAWRATE\tODO\tSTEERINGANGLE\tSTEERINGANGLERATE\tFIXTYPE[COMBUSTION\tCSC\tELECTRIC\tHYBRID]\tSUPPORTLEVEL\tDRIVERPOWER\tENGINEPOWER\tBAT_CELSIUS\"\n",
    "    csv_columns = string.lower().split('\\t')\n",
    "    return"
   ]
  },
  {
   "cell_type": "code",
   "execution_count": 6,
   "metadata": {},
   "outputs": [],
   "source": [
    "def nmea_import(filename):\n",
    "    return"
   ]
  },
  {
   "cell_type": "code",
   "execution_count": 7,
   "metadata": {},
   "outputs": [],
   "source": [
    "def gpx_import(filename):\n",
    "    return"
   ]
  },
  {
   "cell_type": "code",
   "execution_count": 10,
   "metadata": {},
   "outputs": [
    {
     "data": {
      "application/vnd.jupyter.widget-view+json": {
       "model_id": "cabf5b7a4eaa4233830f5a85f269fae6",
       "version_major": 2,
       "version_minor": 0
      },
      "text/plain": [
       "Dropdown(description='Track:', options=('umc',), value='umc')"
      ]
     },
     "metadata": {},
     "output_type": "display_data"
    },
    {
     "data": {
      "application/vnd.jupyter.widget-view+json": {
       "model_id": "2dada85efa4a42aeb21a27c0fdf4a555",
       "version_major": 2,
       "version_minor": 0
      },
      "text/plain": [
       "Dropdown(description='Configuration', options=('east', 'west', 'outer', 'full'), value='east')"
      ]
     },
     "metadata": {},
     "output_type": "display_data"
    },
    {
     "data": {
      "application/vnd.jupyter.widget-view+json": {
       "model_id": "fd6254617e2c464b9009267560226d07",
       "version_major": 2,
       "version_minor": 0
      },
      "text/plain": [
       "Dropdown(description='Driver', options=('brandon', 'john', 'monte'), value='brandon')"
      ]
     },
     "metadata": {},
     "output_type": "display_data"
    },
    {
     "data": {
      "application/vnd.jupyter.widget-view+json": {
       "model_id": "a6806179876d4320bf7617f26abdfa46",
       "version_major": 2,
       "version_minor": 0
      },
      "text/plain": [
       "DatePicker(value=None, description='Date')"
      ]
     },
     "metadata": {},
     "output_type": "display_data"
    },
    {
     "data": {
      "application/vnd.jupyter.widget-view+json": {
       "model_id": "eab71912a56442d2a290482fe00b67b2",
       "version_major": 2,
       "version_minor": 0
      },
      "text/plain": [
       "Dropdown(description='Session', options=('session 1', 'session 2', 'session 3', 'session 4', 'session 5', 'mul…"
      ]
     },
     "metadata": {},
     "output_type": "display_data"
    },
    {
     "data": {
      "application/vnd.jupyter.widget-view+json": {
       "model_id": "99dfe28716e2450c90c30910acb15f11",
       "version_major": 2,
       "version_minor": 0
      },
      "text/plain": [
       "Dropdown(description='Speed Units', options=('kph', 'mph'), value='kph')"
      ]
     },
     "metadata": {},
     "output_type": "display_data"
    }
   ],
   "source": [
    "meta = {}\n",
    "meta_dict = {}\n",
    "track = widgets.Dropdown(\n",
    "    options=['umc'],\n",
    "    description='Track:',\n",
    "    disabled=False,\n",
    ")\n",
    "track_config = widgets.Dropdown(\n",
    "    options=['east','west','outer','full'],\n",
    "    description='Configuration',\n",
    "    disabled=False,\n",
    ")\n",
    "driver = widgets.Dropdown(\n",
    "    options=['brandon','john','monte'],\n",
    "    description='Driver',\n",
    "    disabled=False,\n",
    ")\n",
    "date_pick = widgets.DatePicker(\n",
    "    description='Date',\n",
    "    disabled=False\n",
    ")\n",
    "session = widgets.Dropdown(\n",
    "    options=['session 1','session 2','session 3','session 4','session 5', 'multiple sessions'],\n",
    "    description='Session',\n",
    "    disabled=False,\n",
    ")\n",
    "speed_units = widgets.Dropdown(\n",
    "    options=['kph','mph'],\n",
    "    description='Speed Units',\n",
    "    disabled=False,\n",
    ")\n",
    "display(track)\n",
    "display(track_config)\n",
    "display(driver)\n",
    "display(date_pick)\n",
    "display(session)\n",
    "display(speed_units)"
   ]
  },
  {
   "cell_type": "code",
   "execution_count": 29,
   "metadata": {},
   "outputs": [],
   "source": [
    "meta_id = int(time.time())\n",
    "meta_dict = {}\n",
    "meta_dict['id'] = [meta_id]\n",
    "meta_dict['track'] = [track.value]\n",
    "meta_dict['track_config'] = [track_config.value]\n",
    "meta_dict['track_and_config'] = [\"%s-%s\" % (track.value,track_config.value)]\n",
    "meta_dict['driver'] = [driver.value]\n",
    "meta_dict['date'] = [date_pick.value.strftime(\"%Y-%m-%d\")]\n",
    "meta_dict['session'] = [session.value]\n",
    "meta_df = pd.DataFrame.from_dict(meta_dict)\n",
    "\n",
    "Tk().withdraw() # we don't want a full GUI, so keep the root window from appearing\n",
    "filename = askopenfilename() # show an \"Open\" dialog box and return the path to the selected file\n",
    "#print(filename)\n",
    "ext = splitext(filename)[1]\n",
    "if ext == '.tsv':\n",
    "    raw_data = tsv_import(filename, meta_id, speed_units.value,column_name_dict)\n",
    "elif ext == '.vbo':\n",
    "    print('vbo')\n",
    "    vbo_import(filename, meta_id)\n",
    "else:\n",
    "    print('file type not compatible')\n",
    "    \n",
    "conn = sql.connect('race_data.db')\n",
    "meta_df.to_sql('upload_meta', conn, if_exists='append')\n",
    "raw_data.to_sql('raw_laps', conn, if_exists='append')\n"
   ]
  },
  {
   "cell_type": "code",
   "execution_count": 22,
   "metadata": {},
   "outputs": [],
   "source": [
    "column_name_dict = {\n",
    "     'lapindex':'lap_number',\n",
    "     'date':'start_date',\n",
    "     'time':'start_time',\n",
    "     'time_lap':'lap_time',\n",
    "     'latitude':'latitude',\n",
    "     'longitude':'longitude',\n",
    "     'speed_kph':'kph',\n",
    "     'speed_mph':'mph',\n",
    "     'height_m':'height_m',\n",
    "     'height_ft':'height_ft',\n",
    "     'heading_deg':'heading',\n",
    "     'gpsdifferential[unknown/2d3d/dgps/invalid]':'gps_differential',\n",
    "     'gpsfix[nofix/2d/3d/virtual/indoor]':'gps_fix',\n",
    "     'gpsinterpolated[false/true]':'gps_interpolated',\n",
    "     'satellites':'num_satellites',\n",
    "     'hdop':'hdop',\n",
    "     'accuracy_m':'accuracy_m',\n",
    "     'distance_km':'distance_km',\n",
    "     'distance_mile':'distance_mile',\n",
    "     'accelerationsource[calculated/measured/undefined]':'accel_source',\n",
    "     'lateralg':'gps_lat_acceleration',\n",
    "     'linealg':'gps_lon_acceleration',\n",
    "     'lean':'lean',\n",
    "     'rpm':'rpm',\n",
    "     'maf':'maf',\n",
    "     'wheel_speed_kph':'wheel_speed_kph',\n",
    "     'wheel_speed_mph':'wheel_speed_kmh',\n",
    "     'throttle':'throttle_position',\n",
    "     'gear':'gear',\n",
    "     'fuel':'fuel',\n",
    "     'coolant_celsius':'coolant_celsius',\n",
    "     'oil_celsius':'oil_celsius',\n",
    "     'iat_celsius':'iat_celsius',\n",
    "     'map':'map',\n",
    "     'oippressure':'oil_pressure',\n",
    "     'brakepressure':'brake_pressure',\n",
    "     'wheel_speed_rl_delta_kph':'wheel_speed_rl',\n",
    "     'wheel_speed_rr_delta_kph':'wheel_speed_rr',\n",
    "     'wheel_speed_fl_delta_kph':'wheel_speed_fl',\n",
    "     'wheel_speed_fr_delta_kph':'wheel_speed_fr',\n",
    "     'yawrate':'yaw_rate',\n",
    "     'odo':'odo',\n",
    "     'steeringangle':'steering_angle',\n",
    "     'steeringanglerate':'steering_angle_rate',\n",
    "     'fixtype[combustion,csc,electric,hybrid]':'fix_type',\n",
    "     'supportlevel':'support_level',\n",
    "     'driverpower':'driver_power',\n",
    "     'enginepower':'engine_power',\n",
    "     'bat_celsius':'bat_celsius',\n",
    "     'start date': 'start_date', \n",
    "     'start time':'start_time', \n",
    "     'lap number':'lap_number', \n",
    "     'session time':'session_time', \n",
    "     'lap time':'lap_time',\n",
    "     'longitudinal acceleration':'long_acceleration', \n",
    "     'gps lateral acceleration':'gps_lat_acceleration',\n",
    "     'heading':'heading', \n",
    "     'gps distance':'gps_distance', \n",
    "     'gps longitudinal acceleration':'gps_long_acceleration',\n",
    "     'lateral acceleration':'lat_acceleration', \n",
    "     'gps speed':'gps_speed',\n",
    "     'number of satellites':'num_satellites', \n",
    "     'throttle position':'throttle_position'\n",
    "    }"
   ]
  },
  {
   "cell_type": "code",
   "execution_count": null,
   "metadata": {},
   "outputs": [],
   "source": []
  }
 ],
 "metadata": {
  "kernelspec": {
   "display_name": "Python 3",
   "language": "python",
   "name": "python3"
  },
  "language_info": {
   "codemirror_mode": {
    "name": "ipython",
    "version": 3
   },
   "file_extension": ".py",
   "mimetype": "text/x-python",
   "name": "python",
   "nbconvert_exporter": "python",
   "pygments_lexer": "ipython3",
   "version": "3.7.4"
  }
 },
 "nbformat": 4,
 "nbformat_minor": 2
}
